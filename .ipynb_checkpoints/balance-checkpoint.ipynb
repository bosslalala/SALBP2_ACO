{
 "cells": [
  {
   "cell_type": "code",
   "execution_count": 177,
   "metadata": {},
   "outputs": [],
   "source": [
    "import random\n",
    "import numpy as np\n",
    "import math\n",
    "import copy"
   ]
  },
  {
   "cell_type": "code",
   "execution_count": 83,
   "metadata": {},
   "outputs": [],
   "source": [
    "num_work = 11#工序数\n",
    "num_workbench = 4#工位数\n",
    "num_total = 100#随机生成的初始解个数\n",
    "copy_num = 70 #保留的解的个数\n",
    "var_num=10 #变异的解的个数"
   ]
  },
  {
   "cell_type": "code",
   "execution_count": 180,
   "metadata": {},
   "outputs": [],
   "source": [
    "works = {'A':45, 'B':11, 'C':9, 'D':50, 'E':15, 'F':12, 'G':12, 'H':12, 'I':12, 'J':8, 'K':9}\n",
    "matrix = [[0,1,0,0,0,0,0,0,0,0,0],\n",
    "          [0,0,1,0,0,0,0,0,0,0,0],\n",
    "          [0,0,0,0,0,1,1,0,0,0,0],\n",
    "          [0,0,0,0,1,0,0,0,0,0,0],\n",
    "          [0,0,0,0,0,0,0,1,1,0,0],\n",
    "          [0,0,0,0,0,0,0,0,0,1,0],\n",
    "          [0,0,0,0,0,0,0,0,0,1,0],\n",
    "          [0,0,0,0,0,0,0,0,0,1,0],\n",
    "          [0,0,0,0,0,0,0,0,0,1,0],\n",
    "          [0,0,0,0,0,0,0,0,0,0,1],\n",
    "          [0,0,0,0,0,0,0,0,0,0,0]]"
   ]
  },
  {
   "cell_type": "code",
   "execution_count": 168,
   "metadata": {},
   "outputs": [],
   "source": [
    "flag = [1,-1,-1,1,-1,-1,-1,-1,-1,-1,-1] #1可选，0已选，-1不可选\n",
    "work = ['A','B','C','D','E','F','G','H','I','J','K']"
   ]
  },
  {
   "cell_type": "code",
   "execution_count": 169,
   "metadata": {},
   "outputs": [],
   "source": [
    "theory_best = 0\n",
    "for value in works.values():\n",
    "    theory_best += value\n",
    "theory_best /= num_workbench"
   ]
  },
  {
   "cell_type": "code",
   "execution_count": 170,
   "metadata": {},
   "outputs": [],
   "source": [
    "def get_order():\n",
    "    order = []\n",
    "    list_now = []\n",
    "    for i in range(len(work)):\n",
    "        if flag[i]==1:\n",
    "            list_now.append(work[i])\n",
    "    for i in range(num_workbench):\n",
    "        new_list = []\n",
    "        time = 0\n",
    "        for j in range(list_now):\n",
    "            temp = works[j]\n",
    "            if time+temp < theory_best*1.1:\n",
    "                new_list.append(j)\n",
    "                time += temp\n",
    "                loc = ord(j)-ord('A')\n",
    "                flag[loc] = [0]\n",
    "                "
   ]
  },
  {
   "cell_type": "code",
   "execution_count": 181,
   "metadata": {},
   "outputs": [],
   "source": [
    "#拓扑排序,待优化可以生成随机拓扑排序\n",
    "def get_sequence():\n",
    "    temp_flag = flag[:]\n",
    "    temp_matrix = copy.deepcopy(matrix)\n",
    "    seq = []\n",
    "    for i in range(num_work):\n",
    "        #print(temp_matrix)\n",
    "        #随机选一个入度为0的结点\n",
    "        zero_list = []\n",
    "        for j in range(num_work):\n",
    "            if temp_flag[j]==1:\n",
    "                zero_list.append(work[j])\n",
    "        this = random.choice(zero_list)\n",
    "        print(this)\n",
    "        seq.append(this)\n",
    "        temp = ord(this)-ord('A')\n",
    "        temp_flag[temp] = 0\n",
    "        #更新flag标志数组\n",
    "        for k in range(num_work):\n",
    "            if temp_matrix[temp][k]==1:\n",
    "                temp_matrix[temp][k] = 0\n",
    "                if temp_flag[k]==-1:\n",
    "                    sum = 0\n",
    "                    for m in range(num_work):\n",
    "                        sum += temp_matrix[m][k]\n",
    "                    if sum==0:\n",
    "                        temp_flag[k]=1\n",
    "    return seq"
   ]
  },
  {
   "cell_type": "code",
   "execution_count": 190,
   "metadata": {},
   "outputs": [
    {
     "name": "stdout",
     "output_type": "stream",
     "text": [
      "D\n",
      "E\n",
      "H\n",
      "A\n",
      "I\n",
      "B\n",
      "C\n",
      "G\n",
      "F\n",
      "J\n",
      "K\n"
     ]
    }
   ],
   "source": [
    "a = get_sequence()"
   ]
  },
  {
   "cell_type": "code",
   "execution_count": 183,
   "metadata": {},
   "outputs": [],
   "source": [
    "def get_order(seq):\n",
    "    order = []\n",
    "    temp_work = seq.pop()\n",
    "    for i in range(num_workbench):\n",
    "        print(i)\n",
    "        print(temp_work)\n",
    "        sub_order = []\n",
    "        time = works[temp_work]\n",
    "        sub_order.append(temp_work)\n",
    "        temp_work = seq.pop()\n",
    "        while(time + works[temp_work] <= theory_best):\n",
    "            print(temp_work)\n",
    "            time += works[temp_work]\n",
    "            sub_order.append(temp_work)\n",
    "            if(seq):\n",
    "                temp_work = seq.pop()\n",
    "        order.append(sub_order)\n",
    "    while(seq):\n",
    "        order[num_workbench-1].append(seq.pop())\n",
    "    return order"
   ]
  },
  {
   "cell_type": "code",
   "execution_count": 117,
   "metadata": {},
   "outputs": [
    {
     "name": "stdout",
     "output_type": "stream",
     "text": [
      "0\n",
      "A\n",
      "1\n",
      "B\n",
      "2\n",
      "D\n",
      "3\n",
      "C\n",
      "E\n",
      "H\n",
      "J\n"
     ]
    }
   ],
   "source": [
    "def get_all_sequence():\n",
    "    temp_flag = flag[:]\n",
    "    temp_matrix = copy.deepcopy(matrix)\n",
    "    seq = []\n",
    "    for i in range(num_work):\n",
    "        zero_list = []\n",
    "        for j in range(num_work):\n",
    "            if temp_flag[j]==1:\n",
    "                zero_list.append(work[j])\n",
    "        for each in zero_list:\n",
    "            seq.append(each)\n",
    "            temp = ord(this)-ord('A')\n",
    "            temp_flag[temp] = 0\n",
    "            #更新flag标志数组\n",
    "            for k in range(num_work):\n",
    "                if temp_matrix[temp][k]==1:\n",
    "                    temp_matrix[temp][k] = 0\n",
    "                    if temp_flag[k]==-1:\n",
    "                        sum = 0\n",
    "                        for m in range(num_work):\n",
    "                            sum += temp_matrix[m][k]\n",
    "                        if sum==0:\n",
    "                            temp_flag[k]=1"
   ]
  },
  {
   "cell_type": "code",
   "execution_count": 204,
   "metadata": {},
   "outputs": [
    {
     "name": "stdout",
     "output_type": "stream",
     "text": [
      "E\n",
      "A\n",
      "B\n",
      "C\n",
      "F\n",
      "G\n",
      "J\n",
      "[['D', 'E'], ['I', 'A'], ['H', 'B', 'C', 'F', 'G', 'J']]\n"
     ]
    }
   ],
   "source": [
    "import random\n",
    "import numpy as np\n",
    "import math\n",
    "import copy\n",
    "\n",
    "#全局参数定义\n",
    "num_work = 11#工序数\n",
    "num_workbench = 3#工位数\n",
    "num_total = 100#随机生成的初始解个数\n",
    "copy_num = 70 #保留的解的个数\n",
    "var_num=10 #变异的解的个数\n",
    "#工序详情\n",
    "works = {'A':45, 'B':11, 'C':9, 'D':50, 'E':15, 'F':12, 'G':12, 'H':12, 'I':12, 'J':8, 'K':9}\n",
    "#邻接矩阵表示作业循序图\n",
    "matrix = [[0,1,0,0,0,0,0,0,0,0,0],\n",
    "          [0,0,1,0,0,0,0,0,0,0,0],\n",
    "          [0,0,0,0,0,1,1,0,0,0,0],\n",
    "          [0,0,0,0,1,0,0,0,0,0,0],\n",
    "          [0,0,0,0,0,0,0,1,1,0,0],\n",
    "          [0,0,0,0,0,0,0,0,0,1,0],\n",
    "          [0,0,0,0,0,0,0,0,0,1,0],\n",
    "          [0,0,0,0,0,0,0,0,0,1,0],\n",
    "          [0,0,0,0,0,0,0,0,0,1,0],\n",
    "          [0,0,0,0,0,0,0,0,0,0,1],\n",
    "          [0,0,0,0,0,0,0,0,0,0,0]]\n",
    "#拓扑排序用到的标志数组\n",
    "flag = [1,-1,-1,1,-1,-1,-1,-1,-1,-1,-1] #1可选，0已选，-1不可选\n",
    "#工序名称\n",
    "work = ['A','B','C','D','E','F','G','H','I','J','K']\n",
    "#理想最优解\n",
    "theory_best = 0\n",
    "for value in works.values():\n",
    "    theory_best += value\n",
    "theory_best /= num_workbench\n",
    "\n",
    "#拓扑排序,待优化可以生成随机拓扑排序\n",
    "#拓扑排序,待优化可以生成随机拓扑排序\n",
    "def get_sequence():\n",
    "    temp_flag = flag[:]\n",
    "    temp_matrix = copy.deepcopy(matrix)\n",
    "    seq = []\n",
    "    for i in range(num_work):\n",
    "        #print(temp_matrix)\n",
    "        #随机选一个入度为0的结点\n",
    "        zero_list = []\n",
    "        for j in range(num_work):\n",
    "            if temp_flag[j]==1:\n",
    "                zero_list.append(work[j])\n",
    "        this = random.choice(zero_list)\n",
    "        #print(this)\n",
    "        seq.append(this)\n",
    "        temp = ord(this)-ord('A')\n",
    "        temp_flag[temp] = 0\n",
    "        #更新flag标志数组\n",
    "        for k in range(num_work):\n",
    "            if temp_matrix[temp][k]==1:\n",
    "                temp_matrix[temp][k] = 0\n",
    "                if temp_flag[k]==-1:\n",
    "                    sum = 0\n",
    "                    for m in range(num_work):\n",
    "                        sum += temp_matrix[m][k]\n",
    "                    if sum==0:\n",
    "                        temp_flag[k]=1\n",
    "    return seq\n",
    "\n",
    "#获得所有拓扑排序结果\n",
    "def get_order(seq):\n",
    "    order = []\n",
    "    temp_work = seq.pop()\n",
    "    for i in range(num_workbench):\n",
    "        #print(i)\n",
    "        #print(temp_work)\n",
    "        sub_order = []\n",
    "        time = works[temp_work]\n",
    "        sub_order.append(temp_work)\n",
    "        temp_work = seq.pop()\n",
    "        while(time + works[temp_work] <= theory_best):\n",
    "            print(temp_work)\n",
    "            time += works[temp_work]\n",
    "            sub_order.append(temp_work)\n",
    "            if(seq):\n",
    "                temp_work = seq.pop()\n",
    "        order.append(sub_order)\n",
    "    while(seq):\n",
    "        order[num_workbench-1].append(seq.pop())\n",
    "    return order\n",
    "\n",
    "#计算si\n",
    "def get_si(order):\n",
    "    times = []\n",
    "    for i in range(num_workbench):\n",
    "        time = 0\n",
    "        for j in order[i]:\n",
    "            time += works[j]\n",
    "        times.append(time)\n",
    "    times.sort()\n",
    "    ct = times[num_workbench-1]\n",
    "    sum = 0\n",
    "    for i in range(num_workbench):\n",
    "        sum += (ct-times[i])*(ct-times[i])\n",
    "    sum = sum / num_workbench\n",
    "    si = math.sqrt(sum)\n",
    "    return si\n",
    "\n",
    "#生成初始种群\n",
    "def generate_initial():\n",
    "    initial = []\n",
    "    for i in range(num_total):\n",
    "        p = get_sequence()\n",
    "        initial.append(p)\n",
    "    return initial\n",
    "#计算适应度，即si值\n",
    "def get_all_si(population):\n",
    "    sis = []\n",
    "    for i in population:\n",
    "        order = get_order(i)\n",
    "        sis.append(get_si(order))\n",
    "    return sis\n",
    "\n",
    "\n",
    "\n",
    "a = get_sequence()\n",
    "a.reverse()\n",
    "order = get_order(a)\n",
    "print(order)"
   ]
  },
  {
   "cell_type": "code",
   "execution_count": 205,
   "metadata": {},
   "outputs": [],
   "source": [
    "initial = generate_initial()"
   ]
  },
  {
   "cell_type": "code",
   "execution_count": 194,
   "metadata": {},
   "outputs": [],
   "source": []
  },
  {
   "cell_type": "code",
   "execution_count": 195,
   "metadata": {},
   "outputs": [],
   "source": [
    "a.sort()"
   ]
  },
  {
   "cell_type": "code",
   "execution_count": 198,
   "metadata": {},
   "outputs": [
    {
     "data": {
      "text/plain": [
       "2.0"
      ]
     },
     "execution_count": 198,
     "metadata": {},
     "output_type": "execute_result"
    }
   ],
   "source": [
    "math.sqrt(4)"
   ]
  },
  {
   "cell_type": "code",
   "execution_count": 199,
   "metadata": {},
   "outputs": [],
   "source": [
    "a.remove(1)"
   ]
  },
  {
   "cell_type": "code",
   "execution_count": 200,
   "metadata": {},
   "outputs": [
    {
     "data": {
      "text/plain": [
       "[2, 2.5, 3]"
      ]
     },
     "execution_count": 200,
     "metadata": {},
     "output_type": "execute_result"
    }
   ],
   "source": [
    "a"
   ]
  },
  {
   "cell_type": "code",
   "execution_count": 201,
   "metadata": {},
   "outputs": [
    {
     "ename": "TypeError",
     "evalue": "'builtin_function_or_method' object is not subscriptable",
     "output_type": "error",
     "traceback": [
      "\u001b[1;31m---------------------------------------------------------------------------\u001b[0m",
      "\u001b[1;31mTypeError\u001b[0m                                 Traceback (most recent call last)",
      "\u001b[1;32m<ipython-input-201-c391663b29e6>\u001b[0m in \u001b[0;36m<module>\u001b[1;34m\u001b[0m\n\u001b[1;32m----> 1\u001b[1;33m \u001b[0ma\u001b[0m\u001b[1;33m.\u001b[0m\u001b[0mremove\u001b[0m\u001b[1;33m[\u001b[0m\u001b[1;36m1\u001b[0m\u001b[1;33m]\u001b[0m\u001b[1;33m\u001b[0m\u001b[1;33m\u001b[0m\u001b[0m\n\u001b[0m",
      "\u001b[1;31mTypeError\u001b[0m: 'builtin_function_or_method' object is not subscriptable"
     ]
    }
   ],
   "source": [
    "a.remove[1]"
   ]
  },
  {
   "cell_type": "code",
   "execution_count": null,
   "metadata": {},
   "outputs": [],
   "source": []
  }
 ],
 "metadata": {
  "kernelspec": {
   "display_name": "Python 3",
   "language": "python",
   "name": "python3"
  },
  "language_info": {
   "codemirror_mode": {
    "name": "ipython",
    "version": 3
   },
   "file_extension": ".py",
   "mimetype": "text/x-python",
   "name": "python",
   "nbconvert_exporter": "python",
   "pygments_lexer": "ipython3",
   "version": "3.9.0"
  }
 },
 "nbformat": 4,
 "nbformat_minor": 4
}
